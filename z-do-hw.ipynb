{
 "cells": [
  {
   "cell_type": "code",
   "execution_count": 1,
   "metadata": {},
   "outputs": [
    {
     "data": {
      "text/plain": [
       "True"
      ]
     },
     "execution_count": 1,
     "metadata": {},
     "output_type": "execute_result"
    }
   ],
   "source": [
    "import torch\n",
    "\n",
    "torch.cuda.is_available()"
   ]
  },
  {
   "attachments": {},
   "cell_type": "markdown",
   "metadata": {},
   "source": [
    "# 数据\n",
    "在mmpretrain下创建data目录，将水果图片数据（30类）放入其中。"
   ]
  },
  {
   "cell_type": "code",
   "execution_count": 2,
   "metadata": {},
   "outputs": [
    {
     "name": "stdout",
     "output_type": "stream",
     "text": [
      "f:\\a_deskFile\\OpenMMLab实战营第二期\\MMPretrain\\mmpretrain\n"
     ]
    }
   ],
   "source": [
    "%cd mmpretrain\n",
    "!mkdir data"
   ]
  },
  {
   "attachments": {},
   "cell_type": "markdown",
   "metadata": {},
   "source": [
    "# 配置文件\n",
    "## 查询配置文件"
   ]
  },
  {
   "cell_type": "code",
   "execution_count": 3,
   "metadata": {},
   "outputs": [
    {
     "name": "stdout",
     "output_type": "stream",
     "text": [
      "['resnet50_8xb16_cifar10', 'resnet50_8xb16_cifar100', 'resnet50_8xb256-rsb-a1-600e_in1k', 'resnet50_8xb256-rsb-a2-300e_in1k', 'resnet50_8xb256-rsb-a3-100e_in1k', 'resnet50_8xb32-fp16_in1k', 'resnet50_8xb32_in1k', 'resnet50_8xb8_cub', 'resnet50_barlowtwins-pre_8xb32-linear-coslr-100e_in1k', 'resnet50_byol-pre_8xb512-linear-coslr-90e_in1k', 'resnet50_densecl-pre_8xb32-linear-steplr-100e_in1k', 'resnet50_mocov2-pre_8xb32-linear-steplr-100e_in1k', 'resnet50_mocov3-100e-pre_8xb128-linear-coslr-90e_in1k', 'resnet50_mocov3-300e-pre_8xb128-linear-coslr-90e_in1k', 'resnet50_mocov3-800e-pre_8xb128-linear-coslr-90e_in1k', 'resnet50_simclr-200e-pre_8xb512-linear-coslr-90e_in1k', 'resnet50_simclr-800e-pre_8xb512-linear-coslr-90e_in1k', 'resnet50_simsiam-100e-pre_8xb512-linear-coslr-90e_in1k', 'resnet50_simsiam-200e-pre_8xb512-linear-coslr-90e_in1k', 'resnet50_swav-pre_8xb32-linear-coslr-100e_in1k']\n"
     ]
    }
   ],
   "source": [
    "from mmpretrain import get_model, list_models, inference_model\n",
    "\n",
    "# 列车图片分类任务中，resnet18模型有哪些\n",
    "print(list_models(task='Image Classification', pattern='resnet50'))\n"
   ]
  },
  {
   "cell_type": "code",
   "execution_count": 4,
   "metadata": {},
   "outputs": [
    {
     "name": "stdout",
     "output_type": "stream",
     "text": [
      "<class 'mmpretrain.models.classifiers.image.ImageClassifier'>\n",
      "<class 'mmpretrain.models.backbones.resnet_cifar.ResNet_CIFAR'>\n"
     ]
    }
   ],
   "source": [
    "# 选择模型 ： resnet50_8xb16_cifar100\n",
    "# 从官网拿到模型链接：https://download.openmmlab.com/mmclassification/v0/resnet/resnet50_b16x8_cifar100_20210528-67b58a1b.pth\n",
    "# 模型实例化\n",
    "model = get_model('resnet50_8xb16_cifar100')\n",
    "print(type(model))\n",
    "print(type(model.backbone))"
   ]
  },
  {
   "attachments": {},
   "cell_type": "markdown",
   "metadata": {},
   "source": [
    "## 配置文件  resnet50_8xb16_cifar100.py\n",
    "对文件进行适配性修改：\\\n",
    "```python\n",
    "\n",
    "# 这段改成我的配置文件路径\n",
    "'''\n",
    "_base_ = [\n",
    "    '../_base_/models/resnet50_cifar.py',\n",
    "    '../_base_/datasets/cifar100_bs16.py',\n",
    "    '../_base_/schedules/cifar10_bs128.py',\n",
    "    '../_base_/default_runtime.py',\n",
    "]\n",
    "'''\n",
    "\n",
    "_base_ = [\n",
    "    '../../../config_for_fruits.py',\n",
    "]\n",
    "\n",
    "\n",
    "# model settings-------------------\n",
    "# 由于我们的分类只有30类，所以num_classes=30\n",
    "model = dict(head=dict(num_classes=30))\n",
    "\n",
    "# schedule settings-----------------\n",
    "optim_wrapper = dict(optimizer=dict(weight_decay=0.0005))\n",
    "\n",
    "\n",
    "# data settings---------------------\n",
    "\n",
    "# 数据集类型为CustomDataset\n",
    "dataset_type = 'CustomDataset'\n",
    "\n",
    "# 同理，我们只有30类\n",
    "data_preprocessor = dict(num_classes=30)\n",
    "\n",
    "# 训练集路径改成自己的\n",
    "train_dataloader = dict(dataset=dict(data_root='data/fruit30_train'))\n",
    "\n",
    "# 验证集也是的\n",
    "val_dataloader = dict(dataset=dict(data_root='data/fruit30_train'))\n",
    "\n",
    "# 再配置文件中添加一个test_dataloader，因为原来的配置文件中没有\n",
    "\n",
    "# 规划配置\n",
    "param_scheduler = dict(\n",
    "    type='MultiStepLR',\n",
    "    by_epoch=True,\n",
    "    milestones=[60, 120, 160],\n",
    "    gamma=0.2,\n",
    ")\n",
    "\n",
    "\n",
    "# 由于是微调，只需少量训练即可，我设置为7\n",
    "train_cfg = dict(by_epoch=True, max_epochs=7, val_interval=1)\n",
    "\n",
    "# lr调小一点\n",
    "optim_wrapper = dict(\n",
    "    optimizer=dict(type='SGD', lr=0.01, momentum=0.9, weight_decay=0.0001))\n",
    "\n",
    "\n",
    "# 加载预训练权重\n",
    "init_cfg=dict(type='Pretrained', checkpoint='https://download.openmmlab.com/mmclassification/v0/resnet/resnet50_b16x8_cifar100_20210528-67b58a1b.pth')\n",
    "\n",
    "```"
   ]
  },
  {
   "attachments": {},
   "cell_type": "markdown",
   "metadata": {},
   "source": [
    "## 配置文件tips：\n",
    "1. split字段删除；\n",
    "2. "
   ]
  },
  {
   "attachments": {},
   "cell_type": "markdown",
   "metadata": {},
   "source": [
    "# 加载预训练权重\n",
    "在model字典里面修改添加字段：\n",
    "```python\n",
    "init_cfg=dict(type='Pretrained', checkpoint='https://download.openmmlab.com/mmclassification/v0/resnet/resnet50_b16x8_cifar100_20210528-67b58a1b.pth')\n",
    "```"
   ]
  },
  {
   "attachments": {},
   "cell_type": "markdown",
   "metadata": {},
   "source": [
    "## 训练中的几个问题\n",
    "1. 在训练中出现了dataloader有问题的情况，由于不熟悉customdataset和imagenet数据集，所以按照视频中老师使用的imagenet_bs32.py基础上进行修改。  \\\n",
    "经过查询，数据集的类型主要分为上述两种，对于customdataset类型，有子文件夹方式（就是我们那种）和标注文件方式（文本标注文件来存储图像文件路径和对应的类别索引）。 \\\n",
    "更多信息见：[准备数据集](https://mmpretrain.readthedocs.io/zh_CN/latest/user_guides/dataset_prepare.html#id2) \\\n",
    "但是，如果选择的模型类型不好，按照网站说明进行修改也是没用的。\n",
    "\n",
    "2. 出现cuda out of memory。先可以尝试修改batch_size等参数。 \\\n",
    "如果还是容易显存溢出，那么还是模型选择的问题，即模型本身太复杂。\n",
    "\n",
    "综上：我更换了下面两个配置文件：\n",
    "cifar100_bs16.py ——————》 imagenet_bs32.py  \\\n",
    "resnet50_cifar.py ——————》 resnet50.py"
   ]
  },
  {
   "attachments": {},
   "cell_type": "markdown",
   "metadata": {},
   "source": [
    "# 启动训练"
   ]
  },
  {
   "cell_type": "code",
   "execution_count": 5,
   "metadata": {},
   "outputs": [
    {
     "name": "stdout",
     "output_type": "stream",
     "text": [
      "^C\n"
     ]
    }
   ],
   "source": [
    "!mim train mmpretrain config_for_fruits01.py --work-dir=./exp"
   ]
  },
  {
   "attachments": {},
   "cell_type": "markdown",
   "metadata": {},
   "source": [
    "# 开启测试"
   ]
  },
  {
   "cell_type": "code",
   "execution_count": null,
   "metadata": {},
   "outputs": [],
   "source": [
    "!mim test mmpretrain config_for_fruits01.py --checkpoint ./exp/epoch_7.pth --out result.pkl"
   ]
  },
  {
   "attachments": {},
   "cell_type": "markdown",
   "metadata": {},
   "source": [
    "# 分析结果"
   ]
  },
  {
   "cell_type": "code",
   "execution_count": null,
   "metadata": {},
   "outputs": [],
   "source": [
    "!mim run mmpretrain analyze_results config_for_fruits01.py result.pkl --out-dir analyze\n",
    "!mim run mmpretrain confusion_matrix config_for_fruits01.py result.pkl --show --show-path ./matrix.png --include-values"
   ]
  },
  {
   "attachments": {},
   "cell_type": "markdown",
   "metadata": {},
   "source": [
    "# 最后，在一个真实图片上进行推理"
   ]
  },
  {
   "cell_type": "code",
   "execution_count": 4,
   "metadata": {},
   "outputs": [
    {
     "name": "stdout",
     "output_type": "stream",
     "text": [
      "Loads checkpoint by local backend from path: ./mmpretrain/exp/epoch_7.pth\n"
     ]
    },
    {
     "data": {
      "text/html": [
       "<pre style=\"white-space:pre;overflow-x:auto;line-height:normal;font-family:Menlo,'DejaVu Sans Mono',consolas,'Courier New',monospace\"></pre>\n"
      ],
      "text/plain": []
     },
     "metadata": {},
     "output_type": "display_data"
    },
    {
     "name": "stderr",
     "output_type": "stream",
     "text": [
      "f:\\Anaconda\\envs\\mmpretrain\\lib\\site-packages\\mmengine\\visualization\\utils.py:240: UserWarning: Glyph 33889 (\\N{CJK UNIFIED IDEOGRAPH-8461}) missing from current font.\n",
      "  s, (width, height) = canvas.print_to_buffer()\n",
      "f:\\Anaconda\\envs\\mmpretrain\\lib\\site-packages\\mmengine\\visualization\\utils.py:240: UserWarning: Glyph 33796 (\\N{CJK UNIFIED IDEOGRAPH-8404}) missing from current font.\n",
      "  s, (width, height) = canvas.print_to_buffer()\n",
      "f:\\Anaconda\\envs\\mmpretrain\\lib\\site-packages\\mmengine\\visualization\\utils.py:240: UserWarning: Glyph 30333 (\\N{CJK UNIFIED IDEOGRAPH-767D}) missing from current font.\n",
      "  s, (width, height) = canvas.print_to_buffer()\n"
     ]
    },
    {
     "data": {
      "text/plain": [
       "[{'pred_scores': array([4.3139076e-03, 4.9760711e-04, 3.8070935e-03, 1.1619236e-03,\n",
       "         1.0601275e-02, 1.1192159e-02, 1.7339033e-03, 1.6992692e-02,\n",
       "         2.3214186e-03, 3.0637996e-03, 3.7959507e-03, 1.1862597e-01,\n",
       "         1.4049634e-03, 1.5994417e-04, 9.3369518e-04, 2.7724623e-04,\n",
       "         1.1717105e-02, 1.6713761e-01, 7.8622956e-04, 3.8845200e-02,\n",
       "         9.7611157e-04, 1.3152322e-03, 1.8268734e-03, 5.6421590e-01,\n",
       "         3.0788119e-04, 2.8142405e-03, 1.0715317e-03, 4.2732293e-04,\n",
       "         2.2278760e-02, 5.3964667e-03], dtype=float32),\n",
       "  'pred_label': 23,\n",
       "  'pred_score': 0.564215898513794,\n",
       "  'pred_class': '葡萄-白'}]"
      ]
     },
     "execution_count": 4,
     "metadata": {},
     "output_type": "execute_result"
    }
   ],
   "source": [
    "from mmpretrain import ImageClassificationInferencer\n",
    "\n",
    "inferencer = ImageClassificationInferencer('./mmpretrain/config_for_fruits01.py', pretrained='./mmpretrain/exp/epoch_7.pth')\n",
    "inferencer(\"./葡萄.jpg\", show=True)"
   ]
  },
  {
   "cell_type": "code",
   "execution_count": 5,
   "metadata": {},
   "outputs": [
    {
     "data": {
      "text/html": [
       "<pre style=\"white-space:pre;overflow-x:auto;line-height:normal;font-family:Menlo,'DejaVu Sans Mono',consolas,'Courier New',monospace\"></pre>\n"
      ],
      "text/plain": []
     },
     "metadata": {},
     "output_type": "display_data"
    },
    {
     "name": "stderr",
     "output_type": "stream",
     "text": [
      "f:\\Anaconda\\envs\\mmpretrain\\lib\\site-packages\\mmengine\\visualization\\utils.py:240: UserWarning: Glyph 32418 (\\N{CJK UNIFIED IDEOGRAPH-7EA2}) missing from current font.\n",
      "  s, (width, height) = canvas.print_to_buffer()\n"
     ]
    },
    {
     "data": {
      "text/plain": [
       "[{'pred_scores': array([1.0910064e-05, 6.9411611e-03, 1.6560815e-02, 3.0406899e-04,\n",
       "         2.1750839e-02, 2.1583910e-05, 7.8190524e-06, 9.6244941e-05,\n",
       "         2.4509376e-05, 6.6590706e-06, 1.8346560e-01, 6.1708415e-05,\n",
       "         1.2899390e-02, 9.4035429e-05, 4.1310024e-04, 6.2147279e-07,\n",
       "         1.3216780e-03, 1.4125090e-04, 1.4464279e-01, 7.8748752e-05,\n",
       "         9.5033012e-03, 3.8337141e-02, 6.0287075e-06, 5.0685660e-04,\n",
       "         5.0527364e-01, 2.1797428e-02, 2.9431761e-03, 3.2691777e-02,\n",
       "         5.6309098e-05, 4.0794708e-05], dtype=float32),\n",
       "  'pred_label': 24,\n",
       "  'pred_score': 0.5052736401557922,\n",
       "  'pred_class': '葡萄-红'}]"
      ]
     },
     "execution_count": 5,
     "metadata": {},
     "output_type": "execute_result"
    }
   ],
   "source": [
    "inferencer(\"./红葡萄.jpg\", show=True)"
   ]
  },
  {
   "cell_type": "code",
   "execution_count": 6,
   "metadata": {},
   "outputs": [
    {
     "data": {
      "text/html": [
       "<pre style=\"white-space:pre;overflow-x:auto;line-height:normal;font-family:Menlo,'DejaVu Sans Mono',consolas,'Courier New',monospace\"></pre>\n"
      ],
      "text/plain": []
     },
     "metadata": {},
     "output_type": "display_data"
    },
    {
     "name": "stderr",
     "output_type": "stream",
     "text": [
      "f:\\Anaconda\\envs\\mmpretrain\\lib\\site-packages\\mmengine\\visualization\\utils.py:240: UserWarning: Glyph 28779 (\\N{CJK UNIFIED IDEOGRAPH-706B}) missing from current font.\n",
      "  s, (width, height) = canvas.print_to_buffer()\n",
      "f:\\Anaconda\\envs\\mmpretrain\\lib\\site-packages\\mmengine\\visualization\\utils.py:240: UserWarning: Glyph 40857 (\\N{CJK UNIFIED IDEOGRAPH-9F99}) missing from current font.\n",
      "  s, (width, height) = canvas.print_to_buffer()\n",
      "f:\\Anaconda\\envs\\mmpretrain\\lib\\site-packages\\mmengine\\visualization\\utils.py:240: UserWarning: Glyph 26524 (\\N{CJK UNIFIED IDEOGRAPH-679C}) missing from current font.\n",
      "  s, (width, height) = canvas.print_to_buffer()\n"
     ]
    },
    {
     "data": {
      "text/plain": [
       "[{'pred_scores': array([4.2940243e-04, 3.8071728e-04, 1.2785956e-03, 6.8414665e-05,\n",
       "         3.0214179e-03, 1.6001533e-03, 9.8025288e-05, 1.3903201e-03,\n",
       "         2.8057478e-04, 3.0066262e-04, 8.6054957e-01, 2.7169302e-04,\n",
       "         1.9328629e-03, 3.6561862e-04, 2.2745530e-04, 2.5972529e-05,\n",
       "         1.5738173e-03, 7.8223260e-05, 1.0373752e-01, 1.1104680e-04,\n",
       "         4.1459640e-03, 2.6031872e-03, 7.6874444e-04, 5.4993550e-03,\n",
       "         1.9316936e-03, 2.0142104e-03, 2.5246275e-04, 4.2833514e-03,\n",
       "         6.9571752e-04, 8.3243693e-05], dtype=float32),\n",
       "  'pred_label': 10,\n",
       "  'pred_score': 0.8605495691299438,\n",
       "  'pred_class': '火龙果'}]"
      ]
     },
     "execution_count": 6,
     "metadata": {},
     "output_type": "execute_result"
    }
   ],
   "source": [
    "inferencer(\"./火龙果.jpg\", show=True)"
   ]
  },
  {
   "cell_type": "code",
   "execution_count": null,
   "metadata": {},
   "outputs": [],
   "source": [
    "'''\n",
    "from configs._base_.models import resnet50_cifar\n",
    "from configs._base_.datasets import cifar100_bs16\n",
    "from configs._base_.schedules import cifar10_bs128\n",
    "from configs._base_ import default_runtime\n",
    "'''"
   ]
  }
 ],
 "metadata": {
  "kernelspec": {
   "display_name": "mmpretrain",
   "language": "python",
   "name": "python3"
  },
  "language_info": {
   "codemirror_mode": {
    "name": "ipython",
    "version": 3
   },
   "file_extension": ".py",
   "mimetype": "text/x-python",
   "name": "python",
   "nbconvert_exporter": "python",
   "pygments_lexer": "ipython3",
   "version": "3.10.11"
  },
  "orig_nbformat": 4
 },
 "nbformat": 4,
 "nbformat_minor": 2
}
